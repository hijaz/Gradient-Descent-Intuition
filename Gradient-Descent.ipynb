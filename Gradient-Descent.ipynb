{
 "cells": [
  {
   "cell_type": "code",
   "execution_count": null,
   "metadata": {},
   "outputs": [],
   "source": [
    "import numpy as np\n",
    "import matplotlib.pyplot as plt\n",
    "from matplotlib import animation\n",
    "from IPython.display import HTML\n",
    "\n",
    "# Define the function to minimize\n",
    "def f(x):\n",
    "    return x**2\n",
    "\n",
    "# Define the derivative of the function\n",
    "def df(x):\n",
    "    return 2*x\n",
    "\n",
    "# Define the gradient descent algorithm\n",
    "def gradient_descent(x0, learning_rate, n_iterations):\n",
    "    x = x0\n",
    "    x_values = [x0]\n",
    "    for i in range(n_iterations):\n",
    "        x -= learning_rate * df(x)\n",
    "        x_values.append(x)\n",
    "    return x_values\n",
    "\n",
    "# Set initial values and run the algorithm\n",
    "x0 = 2.5\n",
    "learning_rate = 0.1\n",
    "n_iterations = 10\n",
    "x_values = gradient_descent(x0, learning_rate, n_iterations)\n",
    "\n",
    "# Create the animation\n",
    "fig, ax = plt.subplots()\n",
    "x = np.linspace(-3, 3, 100)\n",
    "ax.plot(x, f(x))\n",
    "line, = ax.plot([], [], 'ro')\n",
    "\n",
    "def animate(i):\n",
    "    line.set_data(x_values[:i+1], f(np.array(x_values[:i+1])))\n",
    "\n",
    "anim = animation.FuncAnimation(fig, animate, frames=n_iterations+1, interval=500)\n",
    "\n",
    "# Display the animation\n",
    "HTML(anim.to_jshtml())\n"
   ]
  }
 ],
 "metadata": {
  "language_info": {
   "name": "python"
  },
  "orig_nbformat": 4
 },
 "nbformat": 4,
 "nbformat_minor": 2
}
